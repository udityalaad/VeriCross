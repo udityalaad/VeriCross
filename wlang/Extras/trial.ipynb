{
 "cells": [
  {
   "cell_type": "code",
   "execution_count": 36,
   "metadata": {},
   "outputs": [
    {
     "name": "stdout",
     "output_type": "stream",
     "text": [
      "True\n",
      "True\n",
      "True\n",
      "True\n",
      "True\n",
      "True\n",
      "-12\n"
     ]
    }
   ],
   "source": [
    "def m (x, y):\n",
    "    r1 = x\n",
    "    r2 = x\n",
    "    c = y\n",
    "    res = r1 * r2\n",
    "\n",
    "    print(res == ((x * x) - ((y-c) * (y-c))))\n",
    "\n",
    "    while (c > 0):\n",
    "        r1 = r1 + 1\n",
    "        r2 = r2 - 1\n",
    "        res = r1 * r2\n",
    "        c = c - 1\n",
    "\n",
    "        print(res == ((x * x) - ((y-c) * (y-c))))\n",
    "    \n",
    "    print(res == ((x * x) - ((y-c) * (y-c))))\n",
    "\n",
    "    return res\n",
    "\n",
    "\n",
    "print(m(2, 4))"
   ]
  }
 ],
 "metadata": {
  "interpreter": {
   "hash": "f839bbb2b34e485b1d9af50094f89a36ca7750bafdeba5e466fe71d34647e559"
  },
  "kernelspec": {
   "display_name": "Python 3.9.13 64-bit (windows store)",
   "language": "python",
   "name": "python3"
  },
  "language_info": {
   "codemirror_mode": {
    "name": "ipython",
    "version": 3
   },
   "file_extension": ".py",
   "mimetype": "text/x-python",
   "name": "python",
   "nbconvert_exporter": "python",
   "pygments_lexer": "ipython3",
   "version": "3.9.13"
  },
  "orig_nbformat": 4
 },
 "nbformat": 4,
 "nbformat_minor": 2
}
